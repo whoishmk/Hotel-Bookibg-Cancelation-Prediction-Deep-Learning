{
  "nbformat": 4,
  "nbformat_minor": 0,
  "metadata": {
    "colab": {
      "provenance": [],
      "gpuType": "T4"
    },
    "kernelspec": {
      "name": "python3",
      "display_name": "Python 3"
    },
    "language_info": {
      "name": "python"
    },
    "accelerator": "GPU"
  },
  "cells": [
    {
      "cell_type": "code",
      "execution_count": 1,
      "metadata": {
        "id": "K9LEEGjIWl0S"
      },
      "outputs": [],
      "source": [
        "import pandas as pd\n",
        "import tensorflow as tf\n",
        "import matplotlib.pyplot as plt\n",
        "import numpy as np\n",
        "import os\n",
        "import seaborn as sns"
      ]
    },
    {
      "cell_type": "code",
      "source": [
        "file_path = \"/content/drive/MyDrive/hotel_booking.csv\"\n",
        "df = pd.read_csv(file_path)\n",
        "df.head()"
      ],
      "metadata": {
        "colab": {
          "base_uri": "https://localhost:8080/",
          "height": 359
        },
        "id": "7Cu3GdaUW83C",
        "outputId": "fcd3756e-bc9c-413d-8aba-aca09255349c"
      },
      "execution_count": 2,
      "outputs": [
        {
          "output_type": "execute_result",
          "data": {
            "text/plain": [
              "          hotel  is_canceled  lead_time  arrival_date_year arrival_date_month  \\\n",
              "0  Resort Hotel            0        342               2015               July   \n",
              "1  Resort Hotel            0        737               2015               July   \n",
              "2  Resort Hotel            0          7               2015               July   \n",
              "3  Resort Hotel            0         13               2015               July   \n",
              "4  Resort Hotel            0         14               2015               July   \n",
              "\n",
              "   arrival_date_week_number  arrival_date_day_of_month  \\\n",
              "0                        27                          1   \n",
              "1                        27                          1   \n",
              "2                        27                          1   \n",
              "3                        27                          1   \n",
              "4                        27                          1   \n",
              "\n",
              "   stays_in_weekend_nights  stays_in_week_nights  adults  ...  customer_type  \\\n",
              "0                        0                     0       2  ...      Transient   \n",
              "1                        0                     0       2  ...      Transient   \n",
              "2                        0                     1       1  ...      Transient   \n",
              "3                        0                     1       1  ...      Transient   \n",
              "4                        0                     2       2  ...      Transient   \n",
              "\n",
              "    adr required_car_parking_spaces total_of_special_requests  \\\n",
              "0   0.0                           0                         0   \n",
              "1   0.0                           0                         0   \n",
              "2  75.0                           0                         0   \n",
              "3  75.0                           0                         0   \n",
              "4  98.0                           0                         1   \n",
              "\n",
              "  reservation_status reservation_status_date            name  \\\n",
              "0          Check-Out              2015-07-01   Ernest Barnes   \n",
              "1          Check-Out              2015-07-01    Andrea Baker   \n",
              "2          Check-Out              2015-07-02  Rebecca Parker   \n",
              "3          Check-Out              2015-07-02    Laura Murray   \n",
              "4          Check-Out              2015-07-03     Linda Hines   \n",
              "\n",
              "                         email  phone-number       credit_card  \n",
              "0  Ernest.Barnes31@outlook.com  669-792-1661  ************4322  \n",
              "1       Andrea_Baker94@aol.com  858-637-6955  ************9157  \n",
              "2   Rebecca_Parker@comcast.net  652-885-2745  ************3734  \n",
              "3            Laura_M@gmail.com  364-656-8427  ************5677  \n",
              "4           LHines@verizon.com  713-226-5883  ************5498  \n",
              "\n",
              "[5 rows x 36 columns]"
            ],
            "text/html": [
              "\n",
              "  <div id=\"df-be43cab6-6f0d-4d85-81d0-3785075cc4d5\" class=\"colab-df-container\">\n",
              "    <div>\n",
              "<style scoped>\n",
              "    .dataframe tbody tr th:only-of-type {\n",
              "        vertical-align: middle;\n",
              "    }\n",
              "\n",
              "    .dataframe tbody tr th {\n",
              "        vertical-align: top;\n",
              "    }\n",
              "\n",
              "    .dataframe thead th {\n",
              "        text-align: right;\n",
              "    }\n",
              "</style>\n",
              "<table border=\"1\" class=\"dataframe\">\n",
              "  <thead>\n",
              "    <tr style=\"text-align: right;\">\n",
              "      <th></th>\n",
              "      <th>hotel</th>\n",
              "      <th>is_canceled</th>\n",
              "      <th>lead_time</th>\n",
              "      <th>arrival_date_year</th>\n",
              "      <th>arrival_date_month</th>\n",
              "      <th>arrival_date_week_number</th>\n",
              "      <th>arrival_date_day_of_month</th>\n",
              "      <th>stays_in_weekend_nights</th>\n",
              "      <th>stays_in_week_nights</th>\n",
              "      <th>adults</th>\n",
              "      <th>...</th>\n",
              "      <th>customer_type</th>\n",
              "      <th>adr</th>\n",
              "      <th>required_car_parking_spaces</th>\n",
              "      <th>total_of_special_requests</th>\n",
              "      <th>reservation_status</th>\n",
              "      <th>reservation_status_date</th>\n",
              "      <th>name</th>\n",
              "      <th>email</th>\n",
              "      <th>phone-number</th>\n",
              "      <th>credit_card</th>\n",
              "    </tr>\n",
              "  </thead>\n",
              "  <tbody>\n",
              "    <tr>\n",
              "      <th>0</th>\n",
              "      <td>Resort Hotel</td>\n",
              "      <td>0</td>\n",
              "      <td>342</td>\n",
              "      <td>2015</td>\n",
              "      <td>July</td>\n",
              "      <td>27</td>\n",
              "      <td>1</td>\n",
              "      <td>0</td>\n",
              "      <td>0</td>\n",
              "      <td>2</td>\n",
              "      <td>...</td>\n",
              "      <td>Transient</td>\n",
              "      <td>0.0</td>\n",
              "      <td>0</td>\n",
              "      <td>0</td>\n",
              "      <td>Check-Out</td>\n",
              "      <td>2015-07-01</td>\n",
              "      <td>Ernest Barnes</td>\n",
              "      <td>Ernest.Barnes31@outlook.com</td>\n",
              "      <td>669-792-1661</td>\n",
              "      <td>************4322</td>\n",
              "    </tr>\n",
              "    <tr>\n",
              "      <th>1</th>\n",
              "      <td>Resort Hotel</td>\n",
              "      <td>0</td>\n",
              "      <td>737</td>\n",
              "      <td>2015</td>\n",
              "      <td>July</td>\n",
              "      <td>27</td>\n",
              "      <td>1</td>\n",
              "      <td>0</td>\n",
              "      <td>0</td>\n",
              "      <td>2</td>\n",
              "      <td>...</td>\n",
              "      <td>Transient</td>\n",
              "      <td>0.0</td>\n",
              "      <td>0</td>\n",
              "      <td>0</td>\n",
              "      <td>Check-Out</td>\n",
              "      <td>2015-07-01</td>\n",
              "      <td>Andrea Baker</td>\n",
              "      <td>Andrea_Baker94@aol.com</td>\n",
              "      <td>858-637-6955</td>\n",
              "      <td>************9157</td>\n",
              "    </tr>\n",
              "    <tr>\n",
              "      <th>2</th>\n",
              "      <td>Resort Hotel</td>\n",
              "      <td>0</td>\n",
              "      <td>7</td>\n",
              "      <td>2015</td>\n",
              "      <td>July</td>\n",
              "      <td>27</td>\n",
              "      <td>1</td>\n",
              "      <td>0</td>\n",
              "      <td>1</td>\n",
              "      <td>1</td>\n",
              "      <td>...</td>\n",
              "      <td>Transient</td>\n",
              "      <td>75.0</td>\n",
              "      <td>0</td>\n",
              "      <td>0</td>\n",
              "      <td>Check-Out</td>\n",
              "      <td>2015-07-02</td>\n",
              "      <td>Rebecca Parker</td>\n",
              "      <td>Rebecca_Parker@comcast.net</td>\n",
              "      <td>652-885-2745</td>\n",
              "      <td>************3734</td>\n",
              "    </tr>\n",
              "    <tr>\n",
              "      <th>3</th>\n",
              "      <td>Resort Hotel</td>\n",
              "      <td>0</td>\n",
              "      <td>13</td>\n",
              "      <td>2015</td>\n",
              "      <td>July</td>\n",
              "      <td>27</td>\n",
              "      <td>1</td>\n",
              "      <td>0</td>\n",
              "      <td>1</td>\n",
              "      <td>1</td>\n",
              "      <td>...</td>\n",
              "      <td>Transient</td>\n",
              "      <td>75.0</td>\n",
              "      <td>0</td>\n",
              "      <td>0</td>\n",
              "      <td>Check-Out</td>\n",
              "      <td>2015-07-02</td>\n",
              "      <td>Laura Murray</td>\n",
              "      <td>Laura_M@gmail.com</td>\n",
              "      <td>364-656-8427</td>\n",
              "      <td>************5677</td>\n",
              "    </tr>\n",
              "    <tr>\n",
              "      <th>4</th>\n",
              "      <td>Resort Hotel</td>\n",
              "      <td>0</td>\n",
              "      <td>14</td>\n",
              "      <td>2015</td>\n",
              "      <td>July</td>\n",
              "      <td>27</td>\n",
              "      <td>1</td>\n",
              "      <td>0</td>\n",
              "      <td>2</td>\n",
              "      <td>2</td>\n",
              "      <td>...</td>\n",
              "      <td>Transient</td>\n",
              "      <td>98.0</td>\n",
              "      <td>0</td>\n",
              "      <td>1</td>\n",
              "      <td>Check-Out</td>\n",
              "      <td>2015-07-03</td>\n",
              "      <td>Linda Hines</td>\n",
              "      <td>LHines@verizon.com</td>\n",
              "      <td>713-226-5883</td>\n",
              "      <td>************5498</td>\n",
              "    </tr>\n",
              "  </tbody>\n",
              "</table>\n",
              "<p>5 rows × 36 columns</p>\n",
              "</div>\n",
              "    <div class=\"colab-df-buttons\">\n",
              "\n",
              "  <div class=\"colab-df-container\">\n",
              "    <button class=\"colab-df-convert\" onclick=\"convertToInteractive('df-be43cab6-6f0d-4d85-81d0-3785075cc4d5')\"\n",
              "            title=\"Convert this dataframe to an interactive table.\"\n",
              "            style=\"display:none;\">\n",
              "\n",
              "  <svg xmlns=\"http://www.w3.org/2000/svg\" height=\"24px\" viewBox=\"0 -960 960 960\">\n",
              "    <path d=\"M120-120v-720h720v720H120Zm60-500h600v-160H180v160Zm220 220h160v-160H400v160Zm0 220h160v-160H400v160ZM180-400h160v-160H180v160Zm440 0h160v-160H620v160ZM180-180h160v-160H180v160Zm440 0h160v-160H620v160Z\"/>\n",
              "  </svg>\n",
              "    </button>\n",
              "\n",
              "  <style>\n",
              "    .colab-df-container {\n",
              "      display:flex;\n",
              "      gap: 12px;\n",
              "    }\n",
              "\n",
              "    .colab-df-convert {\n",
              "      background-color: #E8F0FE;\n",
              "      border: none;\n",
              "      border-radius: 50%;\n",
              "      cursor: pointer;\n",
              "      display: none;\n",
              "      fill: #1967D2;\n",
              "      height: 32px;\n",
              "      padding: 0 0 0 0;\n",
              "      width: 32px;\n",
              "    }\n",
              "\n",
              "    .colab-df-convert:hover {\n",
              "      background-color: #E2EBFA;\n",
              "      box-shadow: 0px 1px 2px rgba(60, 64, 67, 0.3), 0px 1px 3px 1px rgba(60, 64, 67, 0.15);\n",
              "      fill: #174EA6;\n",
              "    }\n",
              "\n",
              "    .colab-df-buttons div {\n",
              "      margin-bottom: 4px;\n",
              "    }\n",
              "\n",
              "    [theme=dark] .colab-df-convert {\n",
              "      background-color: #3B4455;\n",
              "      fill: #D2E3FC;\n",
              "    }\n",
              "\n",
              "    [theme=dark] .colab-df-convert:hover {\n",
              "      background-color: #434B5C;\n",
              "      box-shadow: 0px 1px 3px 1px rgba(0, 0, 0, 0.15);\n",
              "      filter: drop-shadow(0px 1px 2px rgba(0, 0, 0, 0.3));\n",
              "      fill: #FFFFFF;\n",
              "    }\n",
              "  </style>\n",
              "\n",
              "    <script>\n",
              "      const buttonEl =\n",
              "        document.querySelector('#df-be43cab6-6f0d-4d85-81d0-3785075cc4d5 button.colab-df-convert');\n",
              "      buttonEl.style.display =\n",
              "        google.colab.kernel.accessAllowed ? 'block' : 'none';\n",
              "\n",
              "      async function convertToInteractive(key) {\n",
              "        const element = document.querySelector('#df-be43cab6-6f0d-4d85-81d0-3785075cc4d5');\n",
              "        const dataTable =\n",
              "          await google.colab.kernel.invokeFunction('convertToInteractive',\n",
              "                                                    [key], {});\n",
              "        if (!dataTable) return;\n",
              "\n",
              "        const docLinkHtml = 'Like what you see? Visit the ' +\n",
              "          '<a target=\"_blank\" href=https://colab.research.google.com/notebooks/data_table.ipynb>data table notebook</a>'\n",
              "          + ' to learn more about interactive tables.';\n",
              "        element.innerHTML = '';\n",
              "        dataTable['output_type'] = 'display_data';\n",
              "        await google.colab.output.renderOutput(dataTable, element);\n",
              "        const docLink = document.createElement('div');\n",
              "        docLink.innerHTML = docLinkHtml;\n",
              "        element.appendChild(docLink);\n",
              "      }\n",
              "    </script>\n",
              "  </div>\n",
              "\n",
              "\n",
              "<div id=\"df-6479e084-8046-4c06-84ea-ea9ee3b28eaa\">\n",
              "  <button class=\"colab-df-quickchart\" onclick=\"quickchart('df-6479e084-8046-4c06-84ea-ea9ee3b28eaa')\"\n",
              "            title=\"Suggest charts\"\n",
              "            style=\"display:none;\">\n",
              "\n",
              "<svg xmlns=\"http://www.w3.org/2000/svg\" height=\"24px\"viewBox=\"0 0 24 24\"\n",
              "     width=\"24px\">\n",
              "    <g>\n",
              "        <path d=\"M19 3H5c-1.1 0-2 .9-2 2v14c0 1.1.9 2 2 2h14c1.1 0 2-.9 2-2V5c0-1.1-.9-2-2-2zM9 17H7v-7h2v7zm4 0h-2V7h2v10zm4 0h-2v-4h2v4z\"/>\n",
              "    </g>\n",
              "</svg>\n",
              "  </button>\n",
              "\n",
              "<style>\n",
              "  .colab-df-quickchart {\n",
              "      --bg-color: #E8F0FE;\n",
              "      --fill-color: #1967D2;\n",
              "      --hover-bg-color: #E2EBFA;\n",
              "      --hover-fill-color: #174EA6;\n",
              "      --disabled-fill-color: #AAA;\n",
              "      --disabled-bg-color: #DDD;\n",
              "  }\n",
              "\n",
              "  [theme=dark] .colab-df-quickchart {\n",
              "      --bg-color: #3B4455;\n",
              "      --fill-color: #D2E3FC;\n",
              "      --hover-bg-color: #434B5C;\n",
              "      --hover-fill-color: #FFFFFF;\n",
              "      --disabled-bg-color: #3B4455;\n",
              "      --disabled-fill-color: #666;\n",
              "  }\n",
              "\n",
              "  .colab-df-quickchart {\n",
              "    background-color: var(--bg-color);\n",
              "    border: none;\n",
              "    border-radius: 50%;\n",
              "    cursor: pointer;\n",
              "    display: none;\n",
              "    fill: var(--fill-color);\n",
              "    height: 32px;\n",
              "    padding: 0;\n",
              "    width: 32px;\n",
              "  }\n",
              "\n",
              "  .colab-df-quickchart:hover {\n",
              "    background-color: var(--hover-bg-color);\n",
              "    box-shadow: 0 1px 2px rgba(60, 64, 67, 0.3), 0 1px 3px 1px rgba(60, 64, 67, 0.15);\n",
              "    fill: var(--button-hover-fill-color);\n",
              "  }\n",
              "\n",
              "  .colab-df-quickchart-complete:disabled,\n",
              "  .colab-df-quickchart-complete:disabled:hover {\n",
              "    background-color: var(--disabled-bg-color);\n",
              "    fill: var(--disabled-fill-color);\n",
              "    box-shadow: none;\n",
              "  }\n",
              "\n",
              "  .colab-df-spinner {\n",
              "    border: 2px solid var(--fill-color);\n",
              "    border-color: transparent;\n",
              "    border-bottom-color: var(--fill-color);\n",
              "    animation:\n",
              "      spin 1s steps(1) infinite;\n",
              "  }\n",
              "\n",
              "  @keyframes spin {\n",
              "    0% {\n",
              "      border-color: transparent;\n",
              "      border-bottom-color: var(--fill-color);\n",
              "      border-left-color: var(--fill-color);\n",
              "    }\n",
              "    20% {\n",
              "      border-color: transparent;\n",
              "      border-left-color: var(--fill-color);\n",
              "      border-top-color: var(--fill-color);\n",
              "    }\n",
              "    30% {\n",
              "      border-color: transparent;\n",
              "      border-left-color: var(--fill-color);\n",
              "      border-top-color: var(--fill-color);\n",
              "      border-right-color: var(--fill-color);\n",
              "    }\n",
              "    40% {\n",
              "      border-color: transparent;\n",
              "      border-right-color: var(--fill-color);\n",
              "      border-top-color: var(--fill-color);\n",
              "    }\n",
              "    60% {\n",
              "      border-color: transparent;\n",
              "      border-right-color: var(--fill-color);\n",
              "    }\n",
              "    80% {\n",
              "      border-color: transparent;\n",
              "      border-right-color: var(--fill-color);\n",
              "      border-bottom-color: var(--fill-color);\n",
              "    }\n",
              "    90% {\n",
              "      border-color: transparent;\n",
              "      border-bottom-color: var(--fill-color);\n",
              "    }\n",
              "  }\n",
              "</style>\n",
              "\n",
              "  <script>\n",
              "    async function quickchart(key) {\n",
              "      const quickchartButtonEl =\n",
              "        document.querySelector('#' + key + ' button');\n",
              "      quickchartButtonEl.disabled = true;  // To prevent multiple clicks.\n",
              "      quickchartButtonEl.classList.add('colab-df-spinner');\n",
              "      try {\n",
              "        const charts = await google.colab.kernel.invokeFunction(\n",
              "            'suggestCharts', [key], {});\n",
              "      } catch (error) {\n",
              "        console.error('Error during call to suggestCharts:', error);\n",
              "      }\n",
              "      quickchartButtonEl.classList.remove('colab-df-spinner');\n",
              "      quickchartButtonEl.classList.add('colab-df-quickchart-complete');\n",
              "    }\n",
              "    (() => {\n",
              "      let quickchartButtonEl =\n",
              "        document.querySelector('#df-6479e084-8046-4c06-84ea-ea9ee3b28eaa button');\n",
              "      quickchartButtonEl.style.display =\n",
              "        google.colab.kernel.accessAllowed ? 'block' : 'none';\n",
              "    })();\n",
              "  </script>\n",
              "</div>\n",
              "\n",
              "    </div>\n",
              "  </div>\n"
            ],
            "application/vnd.google.colaboratory.intrinsic+json": {
              "type": "dataframe",
              "variable_name": "df"
            }
          },
          "metadata": {},
          "execution_count": 2
        }
      ]
    },
    {
      "cell_type": "code",
      "source": [],
      "metadata": {
        "id": "9KthonaNW_Jr"
      },
      "execution_count": 2,
      "outputs": []
    },
    {
      "cell_type": "code",
      "source": [
        "X = df.drop(\"is_canceled\", axis = 1)\n",
        "y = df[\"is_canceled\"]"
      ],
      "metadata": {
        "id": "kE8ZImN3Xb3b"
      },
      "execution_count": 3,
      "outputs": []
    },
    {
      "cell_type": "code",
      "source": [
        "y = y.astype('float32')"
      ],
      "metadata": {
        "id": "c3tSkqIJXsnw"
      },
      "execution_count": 4,
      "outputs": []
    },
    {
      "cell_type": "code",
      "source": [
        "y[1000:]"
      ],
      "metadata": {
        "colab": {
          "base_uri": "https://localhost:8080/"
        },
        "id": "eGImW-uYpLOc",
        "outputId": "1ef86124-96fc-4898-f8bd-3d8935fe40f0"
      },
      "execution_count": 5,
      "outputs": [
        {
          "output_type": "execute_result",
          "data": {
            "text/plain": [
              "1000      0.0\n",
              "1001      1.0\n",
              "1002      0.0\n",
              "1003      1.0\n",
              "1004      0.0\n",
              "         ... \n",
              "119385    0.0\n",
              "119386    0.0\n",
              "119387    0.0\n",
              "119388    0.0\n",
              "119389    0.0\n",
              "Name: is_canceled, Length: 118390, dtype: float32"
            ]
          },
          "metadata": {},
          "execution_count": 5
        }
      ]
    },
    {
      "cell_type": "code",
      "source": [
        "k =13\n",
        "cols = df.select_dtypes(include=['number']).corr().nlargest(k, 'is_canceled')['is_canceled'].index\n",
        "cm = np.corrcoef(df[cols].values.T)\n",
        "print(cols)\n",
        "sns.heatmap(cm, cbar=True, annot=True, xticklabels=cols.values, yticklabels=cols.values)"
      ],
      "metadata": {
        "colab": {
          "base_uri": "https://localhost:8080/",
          "height": 716
        },
        "id": "jThrtIePXNJS",
        "outputId": "a1938f12-8807-4527-b58e-4f1834424b52"
      },
      "execution_count": 6,
      "outputs": [
        {
          "output_type": "stream",
          "name": "stdout",
          "text": [
            "Index(['is_canceled', 'lead_time', 'previous_cancellations', 'adults',\n",
            "       'days_in_waiting_list', 'adr', 'stays_in_week_nights',\n",
            "       'arrival_date_year', 'arrival_date_week_number', 'children',\n",
            "       'stays_in_weekend_nights', 'arrival_date_day_of_month', 'company'],\n",
            "      dtype='object')\n"
          ]
        },
        {
          "output_type": "execute_result",
          "data": {
            "text/plain": [
              "<Axes: >"
            ]
          },
          "metadata": {},
          "execution_count": 6
        },
        {
          "output_type": "display_data",
          "data": {
            "text/plain": [
              "<Figure size 640x480 with 2 Axes>"
            ],
            "image/png": "[encoded data removed]"
          },
          "metadata": {}
        }
      ]
    },
    {
      "cell_type": "code",
      "source": [
        "important_features_13 = ['lead_time', 'previous_cancellations', 'adults',\n",
        "       'days_in_waiting_list', 'adr', 'stays_in_week_nights',\n",
        "       'arrival_date_year', 'arrival_date_week_number', 'children',\n",
        "       'stays_in_weekend_nights', 'arrival_date_day_of_month']"
      ],
      "metadata": {
        "id": "1lBn9ZM3YUFa"
      },
      "execution_count": 7,
      "outputs": []
    },
    {
      "cell_type": "code",
      "source": [
        "for a in important_features_13:\n",
        "  print(f\"{a}  {X[a].unique()}\\\n",
        "  \\n--------------------------------------------------------------\\n\\n\")"
      ],
      "metadata": {
        "colab": {
          "base_uri": "https://localhost:8080/"
        },
        "id": "ZU2qhD5Cb2Pz",
        "outputId": "ce5bb626-2627-4cc9-f9b6-e27b5781609b"
      },
      "execution_count": 8,
      "outputs": [
        {
          "output_type": "stream",
          "name": "stdout",
          "text": [
            "lead_time  [342 737   7  13  14   0   9  85  75  23  35  68  18  37  12  72 127  78\n",
            "  48  60  77  99 118  95  96  69  45  40  15  36  43  70  16 107  47 113\n",
            "  90  50  93  76   3   1  10   5  17  51  71  63  62 101   2  81 368 364\n",
            " 324  79  21 109 102   4  98  92  26  73 115  86  52  29  30  33  32   8\n",
            " 100  44  80  97  64  39  34  27  82  94 110 111  84  66 104  28 258 112\n",
            "  65  67  55  88  54 292  83 105 280 394  24 103 366 249  22  91  11 108\n",
            " 106  31  87  41 304 117  59  53  58 116  42 321  38  56  49 317   6  57\n",
            "  19  25 315 123  46  89  61 312 299 130  74 298 119  20 286 136 129 124\n",
            " 327 131 460 140 114 139 122 137 126 120 128 135 150 143 151 132 125 157\n",
            " 147 138 156 164 346 159 160 161 333 381 149 154 297 163 314 155 323 340\n",
            " 356 142 328 144 336 248 302 175 344 382 146 170 166 338 167 310 148 165\n",
            " 172 171 145 121 178 305 173 152 354 347 158 185 349 183 352 177 200 192\n",
            " 361 207 174 330 134 350 334 283 153 197 133 241 193 235 194 261 260 216\n",
            " 169 209 238 215 141 189 187 223 284 214 202 211 168 230 203 188 232 709\n",
            " 219 162 196 190 259 228 176 250 201 186 199 180 206 205 224 222 182 210\n",
            " 275 212 229 218 208 191 181 179 246 255 226 288 253 252 262 236 256 234\n",
            " 254 468 213 237 198 195 239 263 265 274 217 220 307 221 233 257 227 276\n",
            " 225 264 311 277 204 290 266 270 294 319 282 251 322 291 269 240 271 184\n",
            " 231 268 247 273 300 301 267 244 306 293 309 272 242 295 285 243 308 398\n",
            " 303 245 424 279 331 281 339 434 357 325 329 278 332 343 345 360 348 367\n",
            " 353 373 374 406 400 326 379 399 316 341 320 385 355 363 358 296 422 390\n",
            " 335 370 376 375 397 289 542 403 383 384 359 393 337 362 365 435 386 378\n",
            " 313 351 287 471 462 411 450 318 372 371 454 532 445 389 388 407 443 437\n",
            " 451 391 405 412 419 420 426 433 440 429 418 447 461 605 457 475 464 482\n",
            " 626 489 496 503 510 517 524 531 538 545 552 559 566 573 580 587 594 601\n",
            " 608 615 622 629 396 410 395 423 408 409 448 465 387 414 476 479 467 490\n",
            " 493 478 504 507 458 518 521 377 444 380 463]  \n",
            "--------------------------------------------------------------\n",
            "\n",
            "\n",
            "previous_cancellations  [ 0  1  2  3 26 25 14  4 24 19  5 21  6 13 11]  \n",
            "--------------------------------------------------------------\n",
            "\n",
            "\n",
            "adults  [ 2  1  3  4 40 26 50 27 55  0 20  6  5 10]  \n",
            "--------------------------------------------------------------\n",
            "\n",
            "\n",
            "days_in_waiting_list  [  0  50  47  65 122  75 101 150 125  14  60  34 100  22 121  61  39   5\n",
            "   1   8 107  43  52   2  11 142 116  13  44  97  83   4 113  18  20 185\n",
            "  93 109   6  37 105 154  64  99  38  48  33  77  21  80  59  40  58  89\n",
            "  53  49  69  87  91  57 111  79  98  85  63  15   3  41 224  31  56 187\n",
            " 176  71  55  96 236 259 207 215 160 120  30  32  27  62  24 108 147 379\n",
            "  70  35 178 330 223 174 162 391  68 193  10  76  16  28   9 165  17  25\n",
            "  46   7  84 175 183  23 117  12  54  26  73  45  19  42  72  81  92  74\n",
            " 167  36]  \n",
            "--------------------------------------------------------------\n",
            "\n",
            "\n",
            "adr  [  0.    75.    98.   ... 266.75 209.25 157.71]  \n",
            "--------------------------------------------------------------\n",
            "\n",
            "\n",
            "stays_in_week_nights  [ 0  1  2  3  4  5 10 11  8  6  7 15  9 12 33 20 14 16 21 13 30 19 24 40\n",
            " 22 42 50 25 17 32 26 18 34 35 41]  \n",
            "--------------------------------------------------------------\n",
            "\n",
            "\n",
            "arrival_date_year  [2015 2016 2017]  \n",
            "--------------------------------------------------------------\n",
            "\n",
            "\n",
            "arrival_date_week_number  [27 28 29 30 31 32 33 34 35 36 37 38 39 40 41 42 43 44 45 46 47 48 49 50\n",
            " 51 52 53  1  2  3  4  5  6  7  8  9 10 11 12 13 14 15 16 17 18 19 20 21\n",
            " 22 23 24 25 26]  \n",
            "--------------------------------------------------------------\n",
            "\n",
            "\n",
            "children  [ 0.  1.  2. 10.  3. nan]  \n",
            "--------------------------------------------------------------\n",
            "\n",
            "\n",
            "stays_in_weekend_nights  [ 0  1  2  4  3  6 13  8  5  7 12  9 16 18 19 10 14]  \n",
            "--------------------------------------------------------------\n",
            "\n",
            "\n",
            "arrival_date_day_of_month  [ 1  2  3  4  5  6  7  8  9 10 11 12 13 14 15 16 17 18 19 20 21 22 23 24\n",
            " 25 26 27 28 29 30 31]  \n",
            "--------------------------------------------------------------\n",
            "\n",
            "\n"
          ]
        }
      ]
    },
    {
      "cell_type": "code",
      "source": [
        "X = df[important_features_13]"
      ],
      "metadata": {
        "id": "kGRJvcmPXZly"
      },
      "execution_count": 9,
      "outputs": []
    },
    {
      "cell_type": "code",
      "source": [
        "X.info()"
      ],
      "metadata": {
        "colab": {
          "base_uri": "https://localhost:8080/"
        },
        "id": "HREz1sNLYMkS",
        "outputId": "1b9e811e-b0fb-47ba-f4ca-9c488aef6807"
      },
      "execution_count": 10,
      "outputs": [
        {
          "output_type": "stream",
          "name": "stdout",
          "text": [
            "<class 'pandas.core.frame.DataFrame'>\n",
            "RangeIndex: 119390 entries, 0 to 119389\n",
            "Data columns (total 11 columns):\n",
            " #   Column                     Non-Null Count   Dtype  \n",
            "---  ------                     --------------   -----  \n",
            " 0   lead_time                  119390 non-null  int64  \n",
            " 1   previous_cancellations     119390 non-null  int64  \n",
            " 2   adults                     119390 non-null  int64  \n",
            " 3   days_in_waiting_list       119390 non-null  int64  \n",
            " 4   adr                        119390 non-null  float64\n",
            " 5   stays_in_week_nights       119390 non-null  int64  \n",
            " 6   arrival_date_year          119390 non-null  int64  \n",
            " 7   arrival_date_week_number   119390 non-null  int64  \n",
            " 8   children                   119386 non-null  float64\n",
            " 9   stays_in_weekend_nights    119390 non-null  int64  \n",
            " 10  arrival_date_day_of_month  119390 non-null  int64  \n",
            "dtypes: float64(2), int64(9)\n",
            "memory usage: 10.0 MB\n"
          ]
        }
      ]
    },
    {
      "cell_type": "code",
      "source": [
        "X.isnull().sum()"
      ],
      "metadata": {
        "colab": {
          "base_uri": "https://localhost:8080/"
        },
        "id": "8ufQ5TspYOWC",
        "outputId": "de3d3cce-2484-43fc-c1e3-4efd3060f67b"
      },
      "execution_count": 11,
      "outputs": [
        {
          "output_type": "execute_result",
          "data": {
            "text/plain": [
              "lead_time                    0\n",
              "previous_cancellations       0\n",
              "adults                       0\n",
              "days_in_waiting_list         0\n",
              "adr                          0\n",
              "stays_in_week_nights         0\n",
              "arrival_date_year            0\n",
              "arrival_date_week_number     0\n",
              "children                     4\n",
              "stays_in_weekend_nights      0\n",
              "arrival_date_day_of_month    0\n",
              "dtype: int64"
            ]
          },
          "metadata": {},
          "execution_count": 11
        }
      ]
    },
    {
      "cell_type": "code",
      "source": [
        "X['children'].fillna(1,inplace=True)"
      ],
      "metadata": {
        "colab": {
          "base_uri": "https://localhost:8080/"
        },
        "id": "2eFfwl2bpfE-",
        "outputId": "9fdb0e0f-0515-4973-f5ba-e60022f73b7e"
      },
      "execution_count": 12,
      "outputs": [
        {
          "output_type": "stream",
          "name": "stderr",
          "text": [
            "<ipython-input-12-9a2858abaeb9>:1: SettingWithCopyWarning: \n",
            "A value is trying to be set on a copy of a slice from a DataFrame\n",
            "\n",
            "See the caveats in the documentation: https://pandas.pydata.org/pandas-docs/stable/user_guide/indexing.html#returning-a-view-versus-a-copy\n",
            "  X['children'].fillna(1,inplace=True)\n"
          ]
        }
      ]
    },
    {
      "cell_type": "code",
      "source": [
        "X.isnull().sum()"
      ],
      "metadata": {
        "colab": {
          "base_uri": "https://localhost:8080/"
        },
        "id": "nxrkGuMyplKN",
        "outputId": "e989126a-8c53-40b1-c4ed-7b785ca92f6c"
      },
      "execution_count": 13,
      "outputs": [
        {
          "output_type": "execute_result",
          "data": {
            "text/plain": [
              "lead_time                    0\n",
              "previous_cancellations       0\n",
              "adults                       0\n",
              "days_in_waiting_list         0\n",
              "adr                          0\n",
              "stays_in_week_nights         0\n",
              "arrival_date_year            0\n",
              "arrival_date_week_number     0\n",
              "children                     0\n",
              "stays_in_weekend_nights      0\n",
              "arrival_date_day_of_month    0\n",
              "dtype: int64"
            ]
          },
          "metadata": {},
          "execution_count": 13
        }
      ]
    },
    {
      "cell_type": "code",
      "source": [
        "from sklearn.compose import make_column_transformer\n",
        "from sklearn.preprocessing import MinMaxScaler\n",
        "from sklearn.model_selection import train_test_split\n",
        "\n",
        "ct = make_column_transformer(\n",
        " (MinMaxScaler(),['lead_time', 'previous_cancellations', 'adults',\n",
        "       'days_in_waiting_list', 'adr', 'stays_in_week_nights',\n",
        "       'arrival_date_year', 'arrival_date_week_number', 'children',\n",
        "       'stays_in_weekend_nights', 'arrival_date_day_of_month']))"
      ],
      "metadata": {
        "id": "WoKWIR1-Ys4d"
      },
      "execution_count": 14,
      "outputs": []
    },
    {
      "cell_type": "code",
      "source": [
        "X_train , X_test , y_train , y_test = train_test_split(X, y , test_size = 0.1 , random_state = 42)"
      ],
      "metadata": {
        "id": "i3ittJSqcxIN"
      },
      "execution_count": 15,
      "outputs": []
    },
    {
      "cell_type": "code",
      "source": [
        "X_train.head()"
      ],
      "metadata": {
        "colab": {
          "base_uri": "https://localhost:8080/",
          "height": 226
        },
        "id": "fOK_3mrwdbQs",
        "outputId": "23874a9b-129a-4144-c30a-8834687937a9"
      },
      "execution_count": 16,
      "outputs": [
        {
          "output_type": "execute_result",
          "data": {
            "text/plain": [
              "        lead_time  previous_cancellations  adults  days_in_waiting_list  \\\n",
              "114297         20                       0       1                     0   \n",
              "117795        125                       0       2                     0   \n",
              "115047         22                       0       2                     0   \n",
              "26115         160                       0       2                     0   \n",
              "70863         263                       0       1                     0   \n",
              "\n",
              "           adr  stays_in_week_nights  arrival_date_year  \\\n",
              "114297   94.00                     0               2017   \n",
              "117795  111.60                     2               2017   \n",
              "115047  112.67                     3               2017   \n",
              "26115   102.80                     3               2016   \n",
              "70863    95.00                     2               2017   \n",
              "\n",
              "        arrival_date_week_number  children  stays_in_weekend_nights  \\\n",
              "114297                        25       0.0                        1   \n",
              "117795                        32       0.0                        2   \n",
              "115047                        26       0.0                        0   \n",
              "26115                         30       0.0                        1   \n",
              "70863                         25       0.0                        2   \n",
              "\n",
              "        arrival_date_day_of_month  \n",
              "114297                         19  \n",
              "117795                          6  \n",
              "115047                         28  \n",
              "26115                          18  \n",
              "70863                          23  "
            ],
            "text/html": [
              "\n",
              "  <div id=\"df-b0de131f-bd08-47ab-b927-710173600509\" class=\"colab-df-container\">\n",
              "    <div>\n",
              "<style scoped>\n",
              "    .dataframe tbody tr th:only-of-type {\n",
              "        vertical-align: middle;\n",
              "    }\n",
              "\n",
              "    .dataframe tbody tr th {\n",
              "        vertical-align: top;\n",
              "    }\n",
              "\n",
              "    .dataframe thead th {\n",
              "        text-align: right;\n",
              "    }\n",
              "</style>\n",
              "<table border=\"1\" class=\"dataframe\">\n",
              "  <thead>\n",
              "    <tr style=\"text-align: right;\">\n",
              "      <th></th>\n",
              "      <th>lead_time</th>\n",
              "      <th>previous_cancellations</th>\n",
              "      <th>adults</th>\n",
              "      <th>days_in_waiting_list</th>\n",
              "      <th>adr</th>\n",
              "      <th>stays_in_week_nights</th>\n",
              "      <th>arrival_date_year</th>\n",
              "      <th>arrival_date_week_number</th>\n",
              "      <th>children</th>\n",
              "      <th>stays_in_weekend_nights</th>\n",
              "      <th>arrival_date_day_of_month</th>\n",
              "    </tr>\n",
              "  </thead>\n",
              "  <tbody>\n",
              "    <tr>\n",
              "      <th>114297</th>\n",
              "      <td>20</td>\n",
              "      <td>0</td>\n",
              "      <td>1</td>\n",
              "      <td>0</td>\n",
              "      <td>94.00</td>\n",
              "      <td>0</td>\n",
              "      <td>2017</td>\n",
              "      <td>25</td>\n",
              "      <td>0.0</td>\n",
              "      <td>1</td>\n",
              "      <td>19</td>\n",
              "    </tr>\n",
              "    <tr>\n",
              "      <th>117795</th>\n",
              "      <td>125</td>\n",
              "      <td>0</td>\n",
              "      <td>2</td>\n",
              "      <td>0</td>\n",
              "      <td>111.60</td>\n",
              "      <td>2</td>\n",
              "      <td>2017</td>\n",
              "      <td>32</td>\n",
              "      <td>0.0</td>\n",
              "      <td>2</td>\n",
              "      <td>6</td>\n",
              "    </tr>\n",
              "    <tr>\n",
              "      <th>115047</th>\n",
              "      <td>22</td>\n",
              "      <td>0</td>\n",
              "      <td>2</td>\n",
              "      <td>0</td>\n",
              "      <td>112.67</td>\n",
              "      <td>3</td>\n",
              "      <td>2017</td>\n",
              "      <td>26</td>\n",
              "      <td>0.0</td>\n",
              "      <td>0</td>\n",
              "      <td>28</td>\n",
              "    </tr>\n",
              "    <tr>\n",
              "      <th>26115</th>\n",
              "      <td>160</td>\n",
              "      <td>0</td>\n",
              "      <td>2</td>\n",
              "      <td>0</td>\n",
              "      <td>102.80</td>\n",
              "      <td>3</td>\n",
              "      <td>2016</td>\n",
              "      <td>30</td>\n",
              "      <td>0.0</td>\n",
              "      <td>1</td>\n",
              "      <td>18</td>\n",
              "    </tr>\n",
              "    <tr>\n",
              "      <th>70863</th>\n",
              "      <td>263</td>\n",
              "      <td>0</td>\n",
              "      <td>1</td>\n",
              "      <td>0</td>\n",
              "      <td>95.00</td>\n",
              "      <td>2</td>\n",
              "      <td>2017</td>\n",
              "      <td>25</td>\n",
              "      <td>0.0</td>\n",
              "      <td>2</td>\n",
              "      <td>23</td>\n",
              "    </tr>\n",
              "  </tbody>\n",
              "</table>\n",
              "</div>\n",
              "    <div class=\"colab-df-buttons\">\n",
              "\n",
              "  <div class=\"colab-df-container\">\n",
              "    <button class=\"colab-df-convert\" onclick=\"convertToInteractive('df-b0de131f-bd08-47ab-b927-710173600509')\"\n",
              "            title=\"Convert this dataframe to an interactive table.\"\n",
              "            style=\"display:none;\">\n",
              "\n",
              "  <svg xmlns=\"http://www.w3.org/2000/svg\" height=\"24px\" viewBox=\"0 -960 960 960\">\n",
              "    <path d=\"M120-120v-720h720v720H120Zm60-500h600v-160H180v160Zm220 220h160v-160H400v160Zm0 220h160v-160H400v160ZM180-400h160v-160H180v160Zm440 0h160v-160H620v160ZM180-180h160v-160H180v160Zm440 0h160v-160H620v160Z\"/>\n",
              "  </svg>\n",
              "    </button>\n",
              "\n",
              "  <style>\n",
              "    .colab-df-container {\n",
              "      display:flex;\n",
              "      gap: 12px;\n",
              "    }\n",
              "\n",
              "    .colab-df-convert {\n",
              "      background-color: #E8F0FE;\n",
              "      border: none;\n",
              "      border-radius: 50%;\n",
              "      cursor: pointer;\n",
              "      display: none;\n",
              "      fill: #1967D2;\n",
              "      height: 32px;\n",
              "      padding: 0 0 0 0;\n",
              "      width: 32px;\n",
              "    }\n",
              "\n",
              "    .colab-df-convert:hover {\n",
              "      background-color: #E2EBFA;\n",
              "      box-shadow: 0px 1px 2px rgba(60, 64, 67, 0.3), 0px 1px 3px 1px rgba(60, 64, 67, 0.15);\n",
              "      fill: #174EA6;\n",
              "    }\n",
              "\n",
              "    .colab-df-buttons div {\n",
              "      margin-bottom: 4px;\n",
              "    }\n",
              "\n",
              "    [theme=dark] .colab-df-convert {\n",
              "      background-color: #3B4455;\n",
              "      fill: #D2E3FC;\n",
              "    }\n",
              "\n",
              "    [theme=dark] .colab-df-convert:hover {\n",
              "      background-color: #434B5C;\n",
              "      box-shadow: 0px 1px 3px 1px rgba(0, 0, 0, 0.15);\n",
              "      filter: drop-shadow(0px 1px 2px rgba(0, 0, 0, 0.3));\n",
              "      fill: #FFFFFF;\n",
              "    }\n",
              "  </style>\n",
              "\n",
              "    <script>\n",
              "      const buttonEl =\n",
              "        document.querySelector('#df-b0de131f-bd08-47ab-b927-710173600509 button.colab-df-convert');\n",
              "      buttonEl.style.display =\n",
              "        google.colab.kernel.accessAllowed ? 'block' : 'none';\n",
              "\n",
              "      async function convertToInteractive(key) {\n",
              "        const element = document.querySelector('#df-b0de131f-bd08-47ab-b927-710173600509');\n",
              "        const dataTable =\n",
              "          await google.colab.kernel.invokeFunction('convertToInteractive',\n",
              "                                                    [key], {});\n",
              "        if (!dataTable) return;\n",
              "\n",
              "        const docLinkHtml = 'Like what you see? Visit the ' +\n",
              "          '<a target=\"_blank\" href=https://colab.research.google.com/notebooks/data_table.ipynb>data table notebook</a>'\n",
              "          + ' to learn more about interactive tables.';\n",
              "        element.innerHTML = '';\n",
              "        dataTable['output_type'] = 'display_data';\n",
              "        await google.colab.output.renderOutput(dataTable, element);\n",
              "        const docLink = document.createElement('div');\n",
              "        docLink.innerHTML = docLinkHtml;\n",
              "        element.appendChild(docLink);\n",
              "      }\n",
              "    </script>\n",
              "  </div>\n",
              "\n",
              "\n",
              "<div id=\"df-fc1912ca-4fef-49a5-9c41-b14718c68335\">\n",
              "  <button class=\"colab-df-quickchart\" onclick=\"quickchart('df-fc1912ca-4fef-49a5-9c41-b14718c68335')\"\n",
              "            title=\"Suggest charts\"\n",
              "            style=\"display:none;\">\n",
              "\n",
              "<svg xmlns=\"http://www.w3.org/2000/svg\" height=\"24px\"viewBox=\"0 0 24 24\"\n",
              "     width=\"24px\">\n",
              "    <g>\n",
              "        <path d=\"M19 3H5c-1.1 0-2 .9-2 2v14c0 1.1.9 2 2 2h14c1.1 0 2-.9 2-2V5c0-1.1-.9-2-2-2zM9 17H7v-7h2v7zm4 0h-2V7h2v10zm4 0h-2v-4h2v4z\"/>\n",
              "    </g>\n",
              "</svg>\n",
              "  </button>\n",
              "\n",
              "<style>\n",
              "  .colab-df-quickchart {\n",
              "      --bg-color: #E8F0FE;\n",
              "      --fill-color: #1967D2;\n",
              "      --hover-bg-color: #E2EBFA;\n",
              "      --hover-fill-color: #174EA6;\n",
              "      --disabled-fill-color: #AAA;\n",
              "      --disabled-bg-color: #DDD;\n",
              "  }\n",
              "\n",
              "  [theme=dark] .colab-df-quickchart {\n",
              "      --bg-color: #3B4455;\n",
              "      --fill-color: #D2E3FC;\n",
              "      --hover-bg-color: #434B5C;\n",
              "      --hover-fill-color: #FFFFFF;\n",
              "      --disabled-bg-color: #3B4455;\n",
              "      --disabled-fill-color: #666;\n",
              "  }\n",
              "\n",
              "  .colab-df-quickchart {\n",
              "    background-color: var(--bg-color);\n",
              "    border: none;\n",
              "    border-radius: 50%;\n",
              "    cursor: pointer;\n",
              "    display: none;\n",
              "    fill: var(--fill-color);\n",
              "    height: 32px;\n",
              "    padding: 0;\n",
              "    width: 32px;\n",
              "  }\n",
              "\n",
              "  .colab-df-quickchart:hover {\n",
              "    background-color: var(--hover-bg-color);\n",
              "    box-shadow: 0 1px 2px rgba(60, 64, 67, 0.3), 0 1px 3px 1px rgba(60, 64, 67, 0.15);\n",
              "    fill: var(--button-hover-fill-color);\n",
              "  }\n",
              "\n",
              "  .colab-df-quickchart-complete:disabled,\n",
              "  .colab-df-quickchart-complete:disabled:hover {\n",
              "    background-color: var(--disabled-bg-color);\n",
              "    fill: var(--disabled-fill-color);\n",
              "    box-shadow: none;\n",
              "  }\n",
              "\n",
              "  .colab-df-spinner {\n",
              "    border: 2px solid var(--fill-color);\n",
              "    border-color: transparent;\n",
              "    border-bottom-color: var(--fill-color);\n",
              "    animation:\n",
              "      spin 1s steps(1) infinite;\n",
              "  }\n",
              "\n",
              "  @keyframes spin {\n",
              "    0% {\n",
              "      border-color: transparent;\n",
              "      border-bottom-color: var(--fill-color);\n",
              "      border-left-color: var(--fill-color);\n",
              "    }\n",
              "    20% {\n",
              "      border-color: transparent;\n",
              "      border-left-color: var(--fill-color);\n",
              "      border-top-color: var(--fill-color);\n",
              "    }\n",
              "    30% {\n",
              "      border-color: transparent;\n",
              "      border-left-color: var(--fill-color);\n",
              "      border-top-color: var(--fill-color);\n",
              "      border-right-color: var(--fill-color);\n",
              "    }\n",
              "    40% {\n",
              "      border-color: transparent;\n",
              "      border-right-color: var(--fill-color);\n",
              "      border-top-color: var(--fill-color);\n",
              "    }\n",
              "    60% {\n",
              "      border-color: transparent;\n",
              "      border-right-color: var(--fill-color);\n",
              "    }\n",
              "    80% {\n",
              "      border-color: transparent;\n",
              "      border-right-color: var(--fill-color);\n",
              "      border-bottom-color: var(--fill-color);\n",
              "    }\n",
              "    90% {\n",
              "      border-color: transparent;\n",
              "      border-bottom-color: var(--fill-color);\n",
              "    }\n",
              "  }\n",
              "</style>\n",
              "\n",
              "  <script>\n",
              "    async function quickchart(key) {\n",
              "      const quickchartButtonEl =\n",
              "        document.querySelector('#' + key + ' button');\n",
              "      quickchartButtonEl.disabled = true;  // To prevent multiple clicks.\n",
              "      quickchartButtonEl.classList.add('colab-df-spinner');\n",
              "      try {\n",
              "        const charts = await google.colab.kernel.invokeFunction(\n",
              "            'suggestCharts', [key], {});\n",
              "      } catch (error) {\n",
              "        console.error('Error during call to suggestCharts:', error);\n",
              "      }\n",
              "      quickchartButtonEl.classList.remove('colab-df-spinner');\n",
              "      quickchartButtonEl.classList.add('colab-df-quickchart-complete');\n",
              "    }\n",
              "    (() => {\n",
              "      let quickchartButtonEl =\n",
              "        document.querySelector('#df-fc1912ca-4fef-49a5-9c41-b14718c68335 button');\n",
              "      quickchartButtonEl.style.display =\n",
              "        google.colab.kernel.accessAllowed ? 'block' : 'none';\n",
              "    })();\n",
              "  </script>\n",
              "</div>\n",
              "\n",
              "    </div>\n",
              "  </div>\n"
            ],
            "application/vnd.google.colaboratory.intrinsic+json": {
              "type": "dataframe",
              "variable_name": "X_train"
            }
          },
          "metadata": {},
          "execution_count": 16
        }
      ]
    },
    {
      "cell_type": "code",
      "source": [
        "ct.fit(X_train)"
      ],
      "metadata": {
        "colab": {
          "base_uri": "https://localhost:8080/",
          "height": 116
        },
        "id": "1Hx2kH8XdSlc",
        "outputId": "e832873c-a8e2-4d03-f0b9-837a662c8340"
      },
      "execution_count": 17,
      "outputs": [
        {
          "output_type": "execute_result",
          "data": {
            "text/plain": [
              "ColumnTransformer(transformers=[('minmaxscaler', MinMaxScaler(),\n",
              "                                 ['lead_time', 'previous_cancellations',\n",
              "                                  'adults', 'days_in_waiting_list', 'adr',\n",
              "                                  'stays_in_week_nights', 'arrival_date_year',\n",
              "                                  'arrival_date_week_number', 'children',\n",
              "                                  'stays_in_weekend_nights',\n",
              "                                  'arrival_date_day_of_month'])])"
            ],
            "text/html": [
              "<style>#sk-container-id-1 {color: black;background-color: white;}#sk-container-id-1 pre{padding: 0;}#sk-container-id-1 div.sk-toggleable {background-color: white;}#sk-container-id-1 label.sk-toggleable__label {cursor: pointer;display: block;width: 100%;margin-bottom: 0;padding: 0.3em;box-sizing: border-box;text-align: center;}#sk-container-id-1 label.sk-toggleable__label-arrow:before {content: \"▸\";float: left;margin-right: 0.25em;color: #696969;}#sk-container-id-1 label.sk-toggleable__label-arrow:hover:before {color: black;}#sk-container-id-1 div.sk-estimator:hover label.sk-toggleable__label-arrow:before {color: black;}#sk-container-id-1 div.sk-toggleable__content {max-height: 0;max-width: 0;overflow: hidden;text-align: left;background-color: #f0f8ff;}#sk-container-id-1 div.sk-toggleable__content pre {margin: 0.2em;color: black;border-radius: 0.25em;background-color: #f0f8ff;}#sk-container-id-1 input.sk-toggleable__control:checked~div.sk-toggleable__content {max-height: 200px;max-width: 100%;overflow: auto;}#sk-container-id-1 input.sk-toggleable__control:checked~label.sk-toggleable__label-arrow:before {content: \"▾\";}#sk-container-id-1 div.sk-estimator input.sk-toggleable__control:checked~label.sk-toggleable__label {background-color: #d4ebff;}#sk-container-id-1 div.sk-label input.sk-toggleable__control:checked~label.sk-toggleable__label {background-color: #d4ebff;}#sk-container-id-1 input.sk-hidden--visually {border: 0;clip: rect(1px 1px 1px 1px);clip: rect(1px, 1px, 1px, 1px);height: 1px;margin: -1px;overflow: hidden;padding: 0;position: absolute;width: 1px;}#sk-container-id-1 div.sk-estimator {font-family: monospace;background-color: #f0f8ff;border: 1px dotted black;border-radius: 0.25em;box-sizing: border-box;margin-bottom: 0.5em;}#sk-container-id-1 div.sk-estimator:hover {background-color: #d4ebff;}#sk-container-id-1 div.sk-parallel-item::after {content: \"\";width: 100%;border-bottom: 1px solid gray;flex-grow: 1;}#sk-container-id-1 div.sk-label:hover label.sk-toggleable__label {background-color: #d4ebff;}#sk-container-id-1 div.sk-serial::before {content: \"\";position: absolute;border-left: 1px solid gray;box-sizing: border-box;top: 0;bottom: 0;left: 50%;z-index: 0;}#sk-container-id-1 div.sk-serial {display: flex;flex-direction: column;align-items: center;background-color: white;padding-right: 0.2em;padding-left: 0.2em;position: relative;}#sk-container-id-1 div.sk-item {position: relative;z-index: 1;}#sk-container-id-1 div.sk-parallel {display: flex;align-items: stretch;justify-content: center;background-color: white;position: relative;}#sk-container-id-1 div.sk-item::before, #sk-container-id-1 div.sk-parallel-item::before {content: \"\";position: absolute;border-left: 1px solid gray;box-sizing: border-box;top: 0;bottom: 0;left: 50%;z-index: -1;}#sk-container-id-1 div.sk-parallel-item {display: flex;flex-direction: column;z-index: 1;position: relative;background-color: white;}#sk-container-id-1 div.sk-parallel-item:first-child::after {align-self: flex-end;width: 50%;}#sk-container-id-1 div.sk-parallel-item:last-child::after {align-self: flex-start;width: 50%;}#sk-container-id-1 div.sk-parallel-item:only-child::after {width: 0;}#sk-container-id-1 div.sk-dashed-wrapped {border: 1px dashed gray;margin: 0 0.4em 0.5em 0.4em;box-sizing: border-box;padding-bottom: 0.4em;background-color: white;}#sk-container-id-1 div.sk-label label {font-family: monospace;font-weight: bold;display: inline-block;line-height: 1.2em;}#sk-container-id-1 div.sk-label-container {text-align: center;}#sk-container-id-1 div.sk-container {/* jupyter's `normalize.less` sets `[hidden] { display: none; }` but bootstrap.min.css set `[hidden] { display: none !important; }` so we also need the `!important` here to be able to override the default hidden behavior on the sphinx rendered scikit-learn.org. See: https://github.com/scikit-learn/scikit-learn/issues/21755 */display: inline-block !important;position: relative;}#sk-container-id-1 div.sk-text-repr-fallback {display: none;}</style><div id=\"sk-container-id-1\" class=\"sk-top-container\"><div class=\"sk-text-repr-fallback\"><pre>ColumnTransformer(transformers=[(&#x27;minmaxscaler&#x27;, MinMaxScaler(),\n",
              "                                 [&#x27;lead_time&#x27;, &#x27;previous_cancellations&#x27;,\n",
              "                                  &#x27;adults&#x27;, &#x27;days_in_waiting_list&#x27;, &#x27;adr&#x27;,\n",
              "                                  &#x27;stays_in_week_nights&#x27;, &#x27;arrival_date_year&#x27;,\n",
              "                                  &#x27;arrival_date_week_number&#x27;, &#x27;children&#x27;,\n",
              "                                  &#x27;stays_in_weekend_nights&#x27;,\n",
              "                                  &#x27;arrival_date_day_of_month&#x27;])])</pre><b>In a Jupyter environment, please rerun this cell to show the HTML representation or trust the notebook. <br />On GitHub, the HTML representation is unable to render, please try loading this page with nbviewer.org.</b></div><div class=\"sk-container\" hidden><div class=\"sk-item sk-dashed-wrapped\"><div class=\"sk-label-container\"><div class=\"sk-label sk-toggleable\"><input class=\"sk-toggleable__control sk-hidden--visually\" id=\"sk-estimator-id-1\" type=\"checkbox\" ><label for=\"sk-estimator-id-1\" class=\"sk-toggleable__label sk-toggleable__label-arrow\">ColumnTransformer</label><div class=\"sk-toggleable__content\"><pre>ColumnTransformer(transformers=[(&#x27;minmaxscaler&#x27;, MinMaxScaler(),\n",
              "                                 [&#x27;lead_time&#x27;, &#x27;previous_cancellations&#x27;,\n",
              "                                  &#x27;adults&#x27;, &#x27;days_in_waiting_list&#x27;, &#x27;adr&#x27;,\n",
              "                                  &#x27;stays_in_week_nights&#x27;, &#x27;arrival_date_year&#x27;,\n",
              "                                  &#x27;arrival_date_week_number&#x27;, &#x27;children&#x27;,\n",
              "                                  &#x27;stays_in_weekend_nights&#x27;,\n",
              "                                  &#x27;arrival_date_day_of_month&#x27;])])</pre></div></div></div><div class=\"sk-parallel\"><div class=\"sk-parallel-item\"><div class=\"sk-item\"><div class=\"sk-label-container\"><div class=\"sk-label sk-toggleable\"><input class=\"sk-toggleable__control sk-hidden--visually\" id=\"sk-estimator-id-2\" type=\"checkbox\" ><label for=\"sk-estimator-id-2\" class=\"sk-toggleable__label sk-toggleable__label-arrow\">minmaxscaler</label><div class=\"sk-toggleable__content\"><pre>[&#x27;lead_time&#x27;, &#x27;previous_cancellations&#x27;, &#x27;adults&#x27;, &#x27;days_in_waiting_list&#x27;, &#x27;adr&#x27;, &#x27;stays_in_week_nights&#x27;, &#x27;arrival_date_year&#x27;, &#x27;arrival_date_week_number&#x27;, &#x27;children&#x27;, &#x27;stays_in_weekend_nights&#x27;, &#x27;arrival_date_day_of_month&#x27;]</pre></div></div></div><div class=\"sk-serial\"><div class=\"sk-item\"><div class=\"sk-estimator sk-toggleable\"><input class=\"sk-toggleable__control sk-hidden--visually\" id=\"sk-estimator-id-3\" type=\"checkbox\" ><label for=\"sk-estimator-id-3\" class=\"sk-toggleable__label sk-toggleable__label-arrow\">MinMaxScaler</label><div class=\"sk-toggleable__content\"><pre>MinMaxScaler()</pre></div></div></div></div></div></div></div></div></div></div>"
            ]
          },
          "metadata": {},
          "execution_count": 17
        }
      ]
    },
    {
      "cell_type": "code",
      "source": [
        "X_train = ct.transform(X_train)\n",
        "X_test = ct.transform(X_test)"
      ],
      "metadata": {
        "id": "tRjfYh2WdWnc"
      },
      "execution_count": 18,
      "outputs": []
    },
    {
      "cell_type": "code",
      "source": [
        "X_train[5]"
      ],
      "metadata": {
        "colab": {
          "base_uri": "https://localhost:8080/"
        },
        "id": "K600ESWQiAOW",
        "outputId": "996c232b-09f6-4c61-c83b-7cb55460f06e"
      },
      "execution_count": 19,
      "outputs": [
        {
          "output_type": "execute_result",
          "data": {
            "text/plain": [
              "array([0.33649932, 0.        , 0.04      , 0.        , 0.01246305,\n",
              "       0.08      , 1.        , 0.32692308, 0.        , 0.05263158,\n",
              "       0.06666667])"
            ]
          },
          "metadata": {},
          "execution_count": 19
        }
      ]
    },
    {
      "cell_type": "code",
      "source": [
        "y_train"
      ],
      "metadata": {
        "colab": {
          "base_uri": "https://localhost:8080/"
        },
        "id": "CkJbhnKpdu4T",
        "outputId": "c35aee7e-3a13-4d08-ae8d-dcce495e110c"
      },
      "execution_count": 20,
      "outputs": [
        {
          "output_type": "execute_result",
          "data": {
            "text/plain": [
              "114297    0.0\n",
              "117795    0.0\n",
              "115047    0.0\n",
              "26115     0.0\n",
              "70863     1.0\n",
              "         ... \n",
              "76820     0.0\n",
              "110268    0.0\n",
              "103694    0.0\n",
              "860       1.0\n",
              "15795     0.0\n",
              "Name: is_canceled, Length: 107451, dtype: float32"
            ]
          },
          "metadata": {},
          "execution_count": 20
        }
      ]
    },
    {
      "cell_type": "code",
      "source": [
        "from tensorflow.keras.regularizers import l2\n",
        "tf.random.set_seed(44)\n",
        "\n",
        "model = tf.keras.Sequential([\n",
        "    tf.keras.layers.Dense(64),\n",
        "    tf.keras.layers.Dropout(0.5),\n",
        "    tf.keras.layers.Dense(32),\n",
        "    tf.keras.layers.Dropout(0.5),\n",
        "    tf.keras.layers.Dense(1, activation = 'sigmoid')\n",
        "])"
      ],
      "metadata": {
        "id": "ExNusycvdxbT"
      },
      "execution_count": 40,
      "outputs": []
    },
    {
      "cell_type": "code",
      "source": [
        "model.compile(loss = \"binary_crossentropy\",\n",
        "              optimizer = tf.keras.optimizers.Adam(learning_rate = 0.01),\n",
        "              metrics = ['accuracy'])"
      ],
      "metadata": {
        "id": "Qn7VfkbIeeHP"
      },
      "execution_count": 45,
      "outputs": []
    },
    {
      "cell_type": "code",
      "source": [
        "history = model.fit(X_train,y_train,validation_data = (X_test , y_test), epochs = 10,batch_size = 32)"
      ],
      "metadata": {
        "colab": {
          "base_uri": "https://localhost:8080/"
        },
        "id": "8Ig6PSSkeqM2",
        "outputId": "917a5764-ba77-4302-8301-cf21908f8181"
      },
      "execution_count": 46,
      "outputs": [
        {
          "output_type": "stream",
          "name": "stdout",
          "text": [
            "Epoch 1/10\n",
            "3358/3358 [==============================] - 14s 4ms/step - loss: 0.6171 - accuracy: 0.6761 - val_loss: 0.6023 - val_accuracy: 0.6836\n",
            "Epoch 2/10\n",
            "3358/3358 [==============================] - 15s 4ms/step - loss: 0.6145 - accuracy: 0.6776 - val_loss: 0.5953 - val_accuracy: 0.6894\n",
            "Epoch 3/10\n",
            "3358/3358 [==============================] - 13s 4ms/step - loss: 0.6155 - accuracy: 0.6764 - val_loss: 0.5956 - val_accuracy: 0.6916\n",
            "Epoch 4/10\n",
            "3358/3358 [==============================] - 13s 4ms/step - loss: 0.6135 - accuracy: 0.6781 - val_loss: 0.5969 - val_accuracy: 0.6890\n",
            "Epoch 5/10\n",
            "3358/3358 [==============================] - 13s 4ms/step - loss: 0.6147 - accuracy: 0.6781 - val_loss: 0.5985 - val_accuracy: 0.6895\n",
            "Epoch 6/10\n",
            "3358/3358 [==============================] - 13s 4ms/step - loss: 0.6137 - accuracy: 0.6774 - val_loss: 0.5966 - val_accuracy: 0.6867\n",
            "Epoch 7/10\n",
            "3358/3358 [==============================] - 13s 4ms/step - loss: 0.6135 - accuracy: 0.6797 - val_loss: 0.5995 - val_accuracy: 0.6838\n",
            "Epoch 8/10\n",
            "3358/3358 [==============================] - 13s 4ms/step - loss: 0.6133 - accuracy: 0.6780 - val_loss: 0.5975 - val_accuracy: 0.6845\n",
            "Epoch 9/10\n",
            "3358/3358 [==============================] - 12s 4ms/step - loss: 0.6126 - accuracy: 0.6786 - val_loss: 0.5980 - val_accuracy: 0.6876\n",
            "Epoch 10/10\n",
            "3358/3358 [==============================] - 12s 4ms/step - loss: 0.6139 - accuracy: 0.6780 - val_loss: 0.6023 - val_accuracy: 0.6818\n"
          ]
        }
      ]
    },
    {
      "cell_type": "code",
      "source": [
        "import pandas as pd\n",
        "pd.DataFrame(history.history).plot(figsize=(10, 7));"
      ],
      "metadata": {
        "id": "G2CINEzee4Ob",
        "colab": {
          "base_uri": "https://localhost:8080/",
          "height": 599
        },
        "outputId": "d6014415-01ce-4cd5-e576-e9856596adf9"
      },
      "execution_count": 47,
      "outputs": [
        {
          "output_type": "display_data",
          "data": {
            "text/plain": [
              "<Figure size 1000x700 with 1 Axes>"
            ],
            "image/png": "[encoded data removed]"
          },
          "metadata": {}
        }
      ]
    }
  ]
}